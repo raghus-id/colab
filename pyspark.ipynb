{
  "nbformat": 4,
  "nbformat_minor": 0,
  "metadata": {
    "colab": {
      "provenance": [],
      "mount_file_id": "1jBKyRsThj6eMSUU1t0Z8YTIOA2zjI-pH",
      "authorship_tag": "ABX9TyNt+8agMbfDqcscoG9PiG+H",
      "include_colab_link": true
    },
    "kernelspec": {
      "name": "python3",
      "display_name": "Python 3"
    },
    "language_info": {
      "name": "python"
    }
  },
  "cells": [
    {
      "cell_type": "markdown",
      "metadata": {
        "id": "view-in-github",
        "colab_type": "text"
      },
      "source": [
        "<a href=\"https://colab.research.google.com/github/raghus-id/colab/blob/main/pyspark.ipynb\" target=\"_parent\"><img src=\"https://colab.research.google.com/assets/colab-badge.svg\" alt=\"Open In Colab\"/></a>"
      ]
    },
    {
      "cell_type": "code",
      "execution_count": null,
      "metadata": {
        "id": "YgxUuGeCSLEe"
      },
      "outputs": [],
      "source": [
        "!pip install pyspark delta-spark ipython-sql sqlalchemy"
      ]
    },
    {
      "cell_type": "code",
      "source": [
        "from pyspark.sql import SparkSession\n",
        "from delta import *\n",
        "builder = SparkSession.builder.appName(\"MyApp\") \\\n",
        "    .config(\"spark.sql.extensions\", \"io.delta.sql.DeltaSparkSessionExtension\") \\\n",
        "    .config(\"spark.sql.catalog.spark_catalog\", \"org.apache.spark.sql.delta.catalog.DeltaCatalog\")\n",
        "\n",
        "spark = configure_spark_with_delta_pip(builder).getOrCreate()\n"
      ],
      "metadata": {
        "id": "4MFFZ9OwWNpt"
      },
      "execution_count": 2,
      "outputs": []
    },
    {
      "cell_type": "code",
      "source": [
        "file_path = \"/content/colab/Demographic.csv\"\n",
        "\n",
        "#df = spark.read.option(\"header\",'True').option(\"inferSchema\",'True').csv(file_path)\n",
        "#df = spark.read.option(\"header\",'True').option(\"inferSchema\",'True').format(\"csv\").load(file_path)\n",
        "df = spark.read.format(\"csv\").option(\"header\", \"true\").load(file_path).limit(10)\n"
      ],
      "metadata": {
        "id": "KfIkHZFt2udy"
      },
      "execution_count": 28,
      "outputs": []
    },
    {
      "cell_type": "code",
      "source": [
        "delta_df = spark.read.format(\"csv\").option(\"header\", \"true\").load(file_path).limit(20)"
      ],
      "metadata": {
        "id": "jXPQ-_u8675G"
      },
      "execution_count": 5,
      "outputs": []
    },
    {
      "cell_type": "code",
      "source": [
        "df = df.withColumnRenamed(\"Country Name\", \"Country\")\\\n",
        ".withColumnRenamed(\"Country Code\", \"Code\")\\\n",
        ".withColumnRenamed(\"Birth rate\", \"Birth_Rate\")\\\n",
        ".withColumnRenamed(\"Internet users\", \"Internet_Users\")\\\n",
        ".withColumnRenamed(\"Income Group\", \"Income_Group\")"
      ],
      "metadata": {
        "id": "LW4mXZTk3Im1"
      },
      "execution_count": 29,
      "outputs": []
    },
    {
      "cell_type": "code",
      "source": [
        "delta_df = delta_df.withColumnRenamed(\"Country Name\", \"Country\")\\\n",
        ".withColumnRenamed(\"Country Code\", \"Code\")\\\n",
        ".withColumnRenamed(\"Birth rate\", \"Birth_Rate\")\\\n",
        ".withColumnRenamed(\"Internet users\", \"Internet_Users\")\\\n",
        ".withColumnRenamed(\"Income Group\", \"Income_Group\")"
      ],
      "metadata": {
        "id": "lWl-nQLL7EI1"
      },
      "execution_count": 7,
      "outputs": []
    },
    {
      "cell_type": "code",
      "source": [
        "df.write.format(\"delta\").mode(\"overwrite\").saveAsTable(\"demographic\")"
      ],
      "metadata": {
        "id": "tK9Jun_S3s94"
      },
      "execution_count": 30,
      "outputs": []
    },
    {
      "cell_type": "code",
      "source": [
        "delta_df.write.format(\"delta\").mode(\"overwrite\").saveAsTable(\"demographic_delta\")"
      ],
      "metadata": {
        "id": "pQSD5V9Z9Gk0"
      },
      "execution_count": 9,
      "outputs": []
    },
    {
      "cell_type": "code",
      "source": [
        "tgt_tab = DeltaTable.forPath(spark, '/content/spark-warehouse/demographic') #df\n",
        "tgt_tab.toDF().show()"
      ],
      "metadata": {
        "id": "4iktr30UXXH8",
        "colab": {
          "base_uri": "https://localhost:8080/"
        },
        "outputId": "dc7f9a76-1d31-4920-efaa-a93f89ddfac6"
      },
      "execution_count": 31,
      "outputs": [
        {
          "output_type": "stream",
          "name": "stdout",
          "text": [
            "+--------------------+----+----------+--------------+-------------------+\n",
            "|             Country|Code|Birth_Rate|Internet_Users|       Income_Group|\n",
            "+--------------------+----+----------+--------------+-------------------+\n",
            "|               Aruba| ABW|    10.244|          78.9|        High income|\n",
            "|         Afghanistan| AFG|    35.253|           5.9|         Low income|\n",
            "|              Angola| AGO|    45.985|          19.1|Upper middle income|\n",
            "|             Albania| ALB|    12.877|          57.2|Upper middle income|\n",
            "|United Arab Emirates| ARE|    11.044|            88|        High income|\n",
            "|           Argentina| ARG|    17.716|          59.9|        High income|\n",
            "|             Armenia| ARM|    13.308|          41.9|Lower middle income|\n",
            "| Antigua and Barbuda| ATG|    16.447|          63.4|        High income|\n",
            "|           Australia| AUS|      13.2|            83|        High income|\n",
            "|             Austria| AUT|       9.4|       80.6188|        High income|\n",
            "+--------------------+----+----------+--------------+-------------------+\n",
            "\n"
          ]
        }
      ]
    },
    {
      "cell_type": "code",
      "source": [
        "src_tab = DeltaTable.forPath(spark, '/content/spark-warehouse/demographic_delta') #delta_df\n",
        "src_tab.toDF().show()"
      ],
      "metadata": {
        "id": "OGKBbWHijBHM",
        "colab": {
          "base_uri": "https://localhost:8080/"
        },
        "outputId": "0616743a-ed9a-4ae3-b5a7-423c69a321ca"
      },
      "execution_count": 11,
      "outputs": [
        {
          "output_type": "stream",
          "name": "stdout",
          "text": [
            "+--------------------+----+----------+--------------+-------------------+\n",
            "|             Country|Code|Birth_Rate|Internet_Users|       Income_Group|\n",
            "+--------------------+----+----------+--------------+-------------------+\n",
            "|               Aruba| ABW|    10.244|          78.9|        High income|\n",
            "|         Afghanistan| AFG|    35.253|           5.9|         Low income|\n",
            "|              Angola| AGO|    45.985|          19.1|Upper middle income|\n",
            "|             Albania| ALB|    12.877|          57.2|Upper middle income|\n",
            "|United Arab Emirates| ARE|    11.044|            88|        High income|\n",
            "|           Argentina| ARG|    17.716|          59.9|        High income|\n",
            "|             Armenia| ARM|    13.308|          41.9|Lower middle income|\n",
            "| Antigua and Barbuda| ATG|    16.447|          63.4|        High income|\n",
            "|           Australia| AUS|      13.2|            83|        High income|\n",
            "|             Austria| AUT|       9.4|       80.6188|        High income|\n",
            "|          Azerbaijan| AZE|      18.3|          58.7|Upper middle income|\n",
            "|             Burundi| BDI|    44.151|           1.3|         Low income|\n",
            "|             Belgium| BEL|      11.2|       82.1702|        High income|\n",
            "|               Benin| BEN|     36.44|           4.9|         Low income|\n",
            "|        Burkina Faso| BFA|    40.551|           9.1|         Low income|\n",
            "|          Bangladesh| BGD|    20.142|          6.63|Lower middle income|\n",
            "|            Bulgaria| BGR|       9.2|       53.0615|Upper middle income|\n",
            "|             Bahrain| BHR|     15.04|    90.0000397|        High income|\n",
            "|        Bahamas, The| BHS|    15.339|            72|        High income|\n",
            "|Bosnia and Herzeg...| BIH|     9.062|         57.79|Upper middle income|\n",
            "+--------------------+----+----------+--------------+-------------------+\n",
            "\n"
          ]
        }
      ]
    },
    {
      "cell_type": "code",
      "source": [
        "from pyspark.sql.functions import lit"
      ],
      "metadata": {
        "id": "KSj9MHMxDcNA"
      },
      "execution_count": 12,
      "outputs": []
    },
    {
      "cell_type": "code",
      "source": [
        "tgt_tab.alias(\"tgt\").merge(delta_df.alias(\"src\"), \"tgt.Code = src.Code\")\\\n",
        "  .whenMatchedUpdate(condition=\"tgt.Code = src.Code\", set={'tgt.code': lit(None)})\\\n",
        "  .whenNotMatchedInsert(\n",
        "    values={'tgt.country': 'src.country','tgt.code': lit('delta'), 'tgt.birth_rate': 'src.birth_rate', 'tgt.internet_users': 'src.internet_users', 'tgt.income_group': 'src.income_group'})\\\n",
        "  .execute()"
      ],
      "metadata": {
        "id": "gN3GMNxz8Grw"
      },
      "execution_count": 13,
      "outputs": []
    },
    {
      "cell_type": "code",
      "source": [
        "tgt_tab.toDF().show()"
      ],
      "metadata": {
        "colab": {
          "base_uri": "https://localhost:8080/"
        },
        "id": "d1Clm1CZ_A0-",
        "outputId": "84ec4b99-0fa7-40fa-ecc8-e74950bd380e"
      },
      "execution_count": 14,
      "outputs": [
        {
          "output_type": "stream",
          "name": "stdout",
          "text": [
            "+--------------------+-----+----------+--------------+-------------------+\n",
            "|             Country| Code|Birth_Rate|Internet_Users|       Income_Group|\n",
            "+--------------------+-----+----------+--------------+-------------------+\n",
            "|               Aruba| NULL|    10.244|          78.9|        High income|\n",
            "|         Afghanistan| NULL|    35.253|           5.9|         Low income|\n",
            "|              Angola| NULL|    45.985|          19.1|Upper middle income|\n",
            "|             Albania| NULL|    12.877|          57.2|Upper middle income|\n",
            "|United Arab Emirates| NULL|    11.044|            88|        High income|\n",
            "|           Argentina| NULL|    17.716|          59.9|        High income|\n",
            "|             Armenia| NULL|    13.308|          41.9|Lower middle income|\n",
            "| Antigua and Barbuda| NULL|    16.447|          63.4|        High income|\n",
            "|           Australia| NULL|      13.2|            83|        High income|\n",
            "|             Austria| NULL|       9.4|       80.6188|        High income|\n",
            "|          Azerbaijan|delta|      18.3|          58.7|Upper middle income|\n",
            "|             Burundi|delta|    44.151|           1.3|         Low income|\n",
            "|             Belgium|delta|      11.2|       82.1702|        High income|\n",
            "|               Benin|delta|     36.44|           4.9|         Low income|\n",
            "|        Burkina Faso|delta|    40.551|           9.1|         Low income|\n",
            "|          Bangladesh|delta|    20.142|          6.63|Lower middle income|\n",
            "|            Bulgaria|delta|       9.2|       53.0615|Upper middle income|\n",
            "|             Bahrain|delta|     15.04|    90.0000397|        High income|\n",
            "|        Bahamas, The|delta|    15.339|            72|        High income|\n",
            "|Bosnia and Herzeg...|delta|     9.062|         57.79|Upper middle income|\n",
            "+--------------------+-----+----------+--------------+-------------------+\n",
            "\n"
          ]
        }
      ]
    },
    {
      "cell_type": "code",
      "source": [
        "from google.colab import userdata\n",
        "print(userdata.get('gituser'))"
      ],
      "metadata": {
        "colab": {
          "base_uri": "https://localhost:8080/"
        },
        "id": "8rGyil8AUzgM",
        "outputId": "d32490ad-443f-48e6-bfea-f0d7dd267e09"
      },
      "execution_count": 20,
      "outputs": [
        {
          "output_type": "stream",
          "name": "stdout",
          "text": [
            "raghus-id\n"
          ]
        }
      ]
    },
    {
      "cell_type": "code",
      "source": [
        "%%bash\n",
        "cd /content\n",
        "mkdir -p github\n"
      ],
      "metadata": {
        "colab": {
          "base_uri": "https://localhost:8080/",
          "height": 400
        },
        "id": "Tj8o3XqnWSxO",
        "outputId": "a99e99ca-23ab-4de6-9ebd-bbb100800bd9"
      },
      "execution_count": 21,
      "outputs": [
        {
          "output_type": "stream",
          "name": "stderr",
          "text": [
            "Cloning into 'mac_spark'...\n",
            "fatal: could not read Username for 'https://github.com': No such device or address\n"
          ]
        },
        {
          "output_type": "error",
          "ename": "CalledProcessError",
          "evalue": "Command 'b'cd /content\\nmkdir -p github\\ncd github\\ngit clone https://github.com/raghus-id/mac_spark.git\\n'' returned non-zero exit status 128.",
          "traceback": [
            "\u001b[0;31m---------------------------------------------------------------------------\u001b[0m",
            "\u001b[0;31mCalledProcessError\u001b[0m                        Traceback (most recent call last)",
            "\u001b[0;32m<ipython-input-21-3dbbe788ff35>\u001b[0m in \u001b[0;36m<cell line: 1>\u001b[0;34m()\u001b[0m\n\u001b[0;32m----> 1\u001b[0;31m \u001b[0mget_ipython\u001b[0m\u001b[0;34m(\u001b[0m\u001b[0;34m)\u001b[0m\u001b[0;34m.\u001b[0m\u001b[0mrun_cell_magic\u001b[0m\u001b[0;34m(\u001b[0m\u001b[0;34m'bash'\u001b[0m\u001b[0;34m,\u001b[0m \u001b[0;34m''\u001b[0m\u001b[0;34m,\u001b[0m \u001b[0;34m'cd /content\\nmkdir -p github\\ncd github\\ngit clone https://github.com/raghus-id/mac_spark.git\\n'\u001b[0m\u001b[0;34m)\u001b[0m\u001b[0;34m\u001b[0m\u001b[0;34m\u001b[0m\u001b[0m\n\u001b[0m",
            "\u001b[0;32m/usr/local/lib/python3.10/dist-packages/google/colab/_shell.py\u001b[0m in \u001b[0;36mrun_cell_magic\u001b[0;34m(self, magic_name, line, cell)\u001b[0m\n\u001b[1;32m    332\u001b[0m     \u001b[0;32mif\u001b[0m \u001b[0mline\u001b[0m \u001b[0;32mand\u001b[0m \u001b[0;32mnot\u001b[0m \u001b[0mcell\u001b[0m\u001b[0;34m:\u001b[0m\u001b[0;34m\u001b[0m\u001b[0;34m\u001b[0m\u001b[0m\n\u001b[1;32m    333\u001b[0m       \u001b[0mcell\u001b[0m \u001b[0;34m=\u001b[0m \u001b[0;34m' '\u001b[0m\u001b[0;34m\u001b[0m\u001b[0;34m\u001b[0m\u001b[0m\n\u001b[0;32m--> 334\u001b[0;31m     \u001b[0;32mreturn\u001b[0m \u001b[0msuper\u001b[0m\u001b[0;34m(\u001b[0m\u001b[0;34m)\u001b[0m\u001b[0;34m.\u001b[0m\u001b[0mrun_cell_magic\u001b[0m\u001b[0;34m(\u001b[0m\u001b[0mmagic_name\u001b[0m\u001b[0;34m,\u001b[0m \u001b[0mline\u001b[0m\u001b[0;34m,\u001b[0m \u001b[0mcell\u001b[0m\u001b[0;34m)\u001b[0m\u001b[0;34m\u001b[0m\u001b[0;34m\u001b[0m\u001b[0m\n\u001b[0m\u001b[1;32m    335\u001b[0m \u001b[0;34m\u001b[0m\u001b[0m\n\u001b[1;32m    336\u001b[0m \u001b[0;34m\u001b[0m\u001b[0m\n",
            "\u001b[0;32m/usr/local/lib/python3.10/dist-packages/IPython/core/interactiveshell.py\u001b[0m in \u001b[0;36mrun_cell_magic\u001b[0;34m(self, magic_name, line, cell)\u001b[0m\n\u001b[1;32m   2471\u001b[0m             \u001b[0;32mwith\u001b[0m \u001b[0mself\u001b[0m\u001b[0;34m.\u001b[0m\u001b[0mbuiltin_trap\u001b[0m\u001b[0;34m:\u001b[0m\u001b[0;34m\u001b[0m\u001b[0;34m\u001b[0m\u001b[0m\n\u001b[1;32m   2472\u001b[0m                 \u001b[0margs\u001b[0m \u001b[0;34m=\u001b[0m \u001b[0;34m(\u001b[0m\u001b[0mmagic_arg_s\u001b[0m\u001b[0;34m,\u001b[0m \u001b[0mcell\u001b[0m\u001b[0;34m)\u001b[0m\u001b[0;34m\u001b[0m\u001b[0;34m\u001b[0m\u001b[0m\n\u001b[0;32m-> 2473\u001b[0;31m                 \u001b[0mresult\u001b[0m \u001b[0;34m=\u001b[0m \u001b[0mfn\u001b[0m\u001b[0;34m(\u001b[0m\u001b[0;34m*\u001b[0m\u001b[0margs\u001b[0m\u001b[0;34m,\u001b[0m \u001b[0;34m**\u001b[0m\u001b[0mkwargs\u001b[0m\u001b[0;34m)\u001b[0m\u001b[0;34m\u001b[0m\u001b[0;34m\u001b[0m\u001b[0m\n\u001b[0m\u001b[1;32m   2474\u001b[0m             \u001b[0;32mreturn\u001b[0m \u001b[0mresult\u001b[0m\u001b[0;34m\u001b[0m\u001b[0;34m\u001b[0m\u001b[0m\n\u001b[1;32m   2475\u001b[0m \u001b[0;34m\u001b[0m\u001b[0m\n",
            "\u001b[0;32m/usr/local/lib/python3.10/dist-packages/IPython/core/magics/script.py\u001b[0m in \u001b[0;36mnamed_script_magic\u001b[0;34m(line, cell)\u001b[0m\n\u001b[1;32m    140\u001b[0m             \u001b[0;32melse\u001b[0m\u001b[0;34m:\u001b[0m\u001b[0;34m\u001b[0m\u001b[0;34m\u001b[0m\u001b[0m\n\u001b[1;32m    141\u001b[0m                 \u001b[0mline\u001b[0m \u001b[0;34m=\u001b[0m \u001b[0mscript\u001b[0m\u001b[0;34m\u001b[0m\u001b[0;34m\u001b[0m\u001b[0m\n\u001b[0;32m--> 142\u001b[0;31m             \u001b[0;32mreturn\u001b[0m \u001b[0mself\u001b[0m\u001b[0;34m.\u001b[0m\u001b[0mshebang\u001b[0m\u001b[0;34m(\u001b[0m\u001b[0mline\u001b[0m\u001b[0;34m,\u001b[0m \u001b[0mcell\u001b[0m\u001b[0;34m)\u001b[0m\u001b[0;34m\u001b[0m\u001b[0;34m\u001b[0m\u001b[0m\n\u001b[0m\u001b[1;32m    143\u001b[0m \u001b[0;34m\u001b[0m\u001b[0m\n\u001b[1;32m    144\u001b[0m         \u001b[0;31m# write a basic docstring:\u001b[0m\u001b[0;34m\u001b[0m\u001b[0;34m\u001b[0m\u001b[0m\n",
            "\u001b[0;32m<decorator-gen-103>\u001b[0m in \u001b[0;36mshebang\u001b[0;34m(self, line, cell)\u001b[0m\n",
            "\u001b[0;32m/usr/local/lib/python3.10/dist-packages/IPython/core/magic.py\u001b[0m in \u001b[0;36m<lambda>\u001b[0;34m(f, *a, **k)\u001b[0m\n\u001b[1;32m    185\u001b[0m     \u001b[0;31m# but it's overkill for just that one bit of state.\u001b[0m\u001b[0;34m\u001b[0m\u001b[0;34m\u001b[0m\u001b[0m\n\u001b[1;32m    186\u001b[0m     \u001b[0;32mdef\u001b[0m \u001b[0mmagic_deco\u001b[0m\u001b[0;34m(\u001b[0m\u001b[0marg\u001b[0m\u001b[0;34m)\u001b[0m\u001b[0;34m:\u001b[0m\u001b[0;34m\u001b[0m\u001b[0;34m\u001b[0m\u001b[0m\n\u001b[0;32m--> 187\u001b[0;31m         \u001b[0mcall\u001b[0m \u001b[0;34m=\u001b[0m \u001b[0;32mlambda\u001b[0m \u001b[0mf\u001b[0m\u001b[0;34m,\u001b[0m \u001b[0;34m*\u001b[0m\u001b[0ma\u001b[0m\u001b[0;34m,\u001b[0m \u001b[0;34m**\u001b[0m\u001b[0mk\u001b[0m\u001b[0;34m:\u001b[0m \u001b[0mf\u001b[0m\u001b[0;34m(\u001b[0m\u001b[0;34m*\u001b[0m\u001b[0ma\u001b[0m\u001b[0;34m,\u001b[0m \u001b[0;34m**\u001b[0m\u001b[0mk\u001b[0m\u001b[0;34m)\u001b[0m\u001b[0;34m\u001b[0m\u001b[0;34m\u001b[0m\u001b[0m\n\u001b[0m\u001b[1;32m    188\u001b[0m \u001b[0;34m\u001b[0m\u001b[0m\n\u001b[1;32m    189\u001b[0m         \u001b[0;32mif\u001b[0m \u001b[0mcallable\u001b[0m\u001b[0;34m(\u001b[0m\u001b[0marg\u001b[0m\u001b[0;34m)\u001b[0m\u001b[0;34m:\u001b[0m\u001b[0;34m\u001b[0m\u001b[0;34m\u001b[0m\u001b[0m\n",
            "\u001b[0;32m/usr/local/lib/python3.10/dist-packages/IPython/core/magics/script.py\u001b[0m in \u001b[0;36mshebang\u001b[0;34m(self, line, cell)\u001b[0m\n\u001b[1;32m    243\u001b[0m             \u001b[0msys\u001b[0m\u001b[0;34m.\u001b[0m\u001b[0mstderr\u001b[0m\u001b[0;34m.\u001b[0m\u001b[0mflush\u001b[0m\u001b[0;34m(\u001b[0m\u001b[0;34m)\u001b[0m\u001b[0;34m\u001b[0m\u001b[0;34m\u001b[0m\u001b[0m\n\u001b[1;32m    244\u001b[0m         \u001b[0;32mif\u001b[0m \u001b[0margs\u001b[0m\u001b[0;34m.\u001b[0m\u001b[0mraise_error\u001b[0m \u001b[0;32mand\u001b[0m \u001b[0mp\u001b[0m\u001b[0;34m.\u001b[0m\u001b[0mreturncode\u001b[0m\u001b[0;34m!=\u001b[0m\u001b[0;36m0\u001b[0m\u001b[0;34m:\u001b[0m\u001b[0;34m\u001b[0m\u001b[0;34m\u001b[0m\u001b[0m\n\u001b[0;32m--> 245\u001b[0;31m             \u001b[0;32mraise\u001b[0m \u001b[0mCalledProcessError\u001b[0m\u001b[0;34m(\u001b[0m\u001b[0mp\u001b[0m\u001b[0;34m.\u001b[0m\u001b[0mreturncode\u001b[0m\u001b[0;34m,\u001b[0m \u001b[0mcell\u001b[0m\u001b[0;34m,\u001b[0m \u001b[0moutput\u001b[0m\u001b[0;34m=\u001b[0m\u001b[0mout\u001b[0m\u001b[0;34m,\u001b[0m \u001b[0mstderr\u001b[0m\u001b[0;34m=\u001b[0m\u001b[0merr\u001b[0m\u001b[0;34m)\u001b[0m\u001b[0;34m\u001b[0m\u001b[0;34m\u001b[0m\u001b[0m\n\u001b[0m\u001b[1;32m    246\u001b[0m \u001b[0;34m\u001b[0m\u001b[0m\n\u001b[1;32m    247\u001b[0m     \u001b[0;32mdef\u001b[0m \u001b[0m_run_script\u001b[0m\u001b[0;34m(\u001b[0m\u001b[0mself\u001b[0m\u001b[0;34m,\u001b[0m \u001b[0mp\u001b[0m\u001b[0;34m,\u001b[0m \u001b[0mcell\u001b[0m\u001b[0;34m,\u001b[0m \u001b[0mto_close\u001b[0m\u001b[0;34m)\u001b[0m\u001b[0;34m:\u001b[0m\u001b[0;34m\u001b[0m\u001b[0;34m\u001b[0m\u001b[0m\n",
            "\u001b[0;31mCalledProcessError\u001b[0m: Command 'b'cd /content\\nmkdir -p github\\ncd github\\ngit clone https://github.com/raghus-id/mac_spark.git\\n'' returned non-zero exit status 128."
          ]
        }
      ]
    },
    {
      "cell_type": "code",
      "source": [
        "!git clone https://github.com/raghus-id/colab.git"
      ],
      "metadata": {
        "colab": {
          "base_uri": "https://localhost:8080/"
        },
        "id": "r5KEsUkOXO65",
        "outputId": "08b721ea-0b44-4f80-c626-3b3fd4c28372"
      },
      "execution_count": 27,
      "outputs": [
        {
          "output_type": "stream",
          "name": "stdout",
          "text": [
            "Cloning into 'colab'...\n",
            "remote: Enumerating objects: 3, done.\u001b[K\n",
            "remote: Counting objects: 100% (3/3), done.\u001b[K\n",
            "remote: Total 3 (delta 0), reused 0 (delta 0), pack-reused 0\u001b[K\n",
            "Receiving objects: 100% (3/3), done.\n"
          ]
        }
      ]
    }
  ]
}