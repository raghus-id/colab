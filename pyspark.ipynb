{
  "nbformat": 4,
  "nbformat_minor": 0,
  "metadata": {
    "colab": {
      "provenance": [],
      "mount_file_id": "1jBKyRsThj6eMSUU1t0Z8YTIOA2zjI-pH",
      "authorship_tag": "ABX9TyPuTx0BBR/mjB/t/mMMcAWH",
      "include_colab_link": true
    },
    "kernelspec": {
      "name": "python3",
      "display_name": "Python 3"
    },
    "language_info": {
      "name": "python"
    }
  },
  "cells": [
    {
      "cell_type": "markdown",
      "metadata": {
        "id": "view-in-github",
        "colab_type": "text"
      },
      "source": [
        "<a href=\"https://colab.research.google.com/github/raghus-id/colab/blob/main/pyspark.ipynb\" target=\"_parent\"><img src=\"https://colab.research.google.com/assets/colab-badge.svg\" alt=\"Open In Colab\"/></a>"
      ]
    },
    {
      "cell_type": "code",
      "source": [
        "!git clone https://github.com/raghus-id/colab.git"
      ],
      "metadata": {
        "colab": {
          "base_uri": "https://localhost:8080/"
        },
        "id": "r5KEsUkOXO65",
        "outputId": "92a1fc55-f01b-40c0-dec8-05e01423fa0f"
      },
      "execution_count": null,
      "outputs": [
        {
          "output_type": "stream",
          "name": "stdout",
          "text": [
            "Cloning into 'colab'...\n",
            "remote: Enumerating objects: 9, done.\u001b[K\n",
            "remote: Counting objects: 100% (9/9), done.\u001b[K\n",
            "remote: Compressing objects: 100% (7/7), done.\u001b[K\n",
            "Receiving objects: 100% (9/9), 5.21 KiB | 5.21 MiB/s, done.\n",
            "remote: Total 9 (delta 1), reused 0 (delta 0), pack-reused 0\u001b[K\n",
            "Resolving deltas: 100% (1/1), done.\n"
          ]
        }
      ]
    },
    {
      "cell_type": "code",
      "execution_count": null,
      "metadata": {
        "id": "YgxUuGeCSLEe"
      },
      "outputs": [],
      "source": [
        "!pip install pyspark delta-spark ipython-sql sqlalchemy"
      ]
    },
    {
      "cell_type": "code",
      "source": [
        "from pyspark.sql import SparkSession\n",
        "from delta import *\n",
        "builder = SparkSession.builder.appName(\"MyApp\") \\\n",
        "    .config(\"spark.sql.extensions\", \"io.delta.sql.DeltaSparkSessionExtension\") \\\n",
        "    .config(\"spark.sql.catalog.spark_catalog\", \"org.apache.spark.sql.delta.catalog.DeltaCatalog\")\n",
        "\n",
        "spark = configure_spark_with_delta_pip(builder).getOrCreate()\n"
      ],
      "metadata": {
        "id": "4MFFZ9OwWNpt"
      },
      "execution_count": null,
      "outputs": []
    },
    {
      "cell_type": "code",
      "source": [
        "file_path = \"/content/colab/Demographic.csv\"\n",
        "\n",
        "#df = spark.read.option(\"header\",'True').option(\"inferSchema\",'True').csv(file_path)\n",
        "#df = spark.read.option(\"header\",'True').option(\"inferSchema\",'True').format(\"csv\").load(file_path)\n",
        "df = spark.read.format(\"csv\").option(\"header\", \"true\").load(file_path).limit(10)\n"
      ],
      "metadata": {
        "id": "KfIkHZFt2udy"
      },
      "execution_count": null,
      "outputs": []
    },
    {
      "cell_type": "code",
      "source": [
        "delta_df = spark.read.format(\"csv\").option(\"header\", \"true\").load(file_path).limit(20)"
      ],
      "metadata": {
        "id": "jXPQ-_u8675G"
      },
      "execution_count": null,
      "outputs": []
    },
    {
      "cell_type": "code",
      "source": [
        "df = df.withColumnRenamed(\"Country Name\", \"Country\")\\\n",
        ".withColumnRenamed(\"Country Code\", \"Code\")\\\n",
        ".withColumnRenamed(\"Birth rate\", \"Birth_Rate\")\\\n",
        ".withColumnRenamed(\"Internet users\", \"Internet_Users\")\\\n",
        ".withColumnRenamed(\"Income Group\", \"Income_Group\")"
      ],
      "metadata": {
        "id": "LW4mXZTk3Im1"
      },
      "execution_count": null,
      "outputs": []
    },
    {
      "cell_type": "code",
      "source": [
        "delta_df = delta_df.withColumnRenamed(\"Country Name\", \"Country\")\\\n",
        ".withColumnRenamed(\"Country Code\", \"Code\")\\\n",
        ".withColumnRenamed(\"Birth rate\", \"Birth_Rate\")\\\n",
        ".withColumnRenamed(\"Internet users\", \"Internet_Users\")\\\n",
        ".withColumnRenamed(\"Income Group\", \"Income_Group\")"
      ],
      "metadata": {
        "id": "lWl-nQLL7EI1"
      },
      "execution_count": null,
      "outputs": []
    },
    {
      "cell_type": "code",
      "source": [
        "df.write.format(\"delta\").mode(\"overwrite\").saveAsTable(\"demographic\")"
      ],
      "metadata": {
        "id": "tK9Jun_S3s94"
      },
      "execution_count": null,
      "outputs": []
    },
    {
      "cell_type": "code",
      "source": [
        "delta_df.write.format(\"delta\").mode(\"overwrite\").saveAsTable(\"demographic_delta\")"
      ],
      "metadata": {
        "id": "pQSD5V9Z9Gk0"
      },
      "execution_count": null,
      "outputs": []
    },
    {
      "cell_type": "code",
      "source": [
        "tgt_tab = DeltaTable.forPath(spark, '/content/spark-warehouse/demographic') #df\n",
        "tgt_tab.toDF().show()"
      ],
      "metadata": {
        "id": "4iktr30UXXH8",
        "colab": {
          "base_uri": "https://localhost:8080/"
        },
        "outputId": "dc7f9a76-1d31-4920-efaa-a93f89ddfac6"
      },
      "execution_count": null,
      "outputs": [
        {
          "output_type": "stream",
          "name": "stdout",
          "text": [
            "+--------------------+----+----------+--------------+-------------------+\n",
            "|             Country|Code|Birth_Rate|Internet_Users|       Income_Group|\n",
            "+--------------------+----+----------+--------------+-------------------+\n",
            "|               Aruba| ABW|    10.244|          78.9|        High income|\n",
            "|         Afghanistan| AFG|    35.253|           5.9|         Low income|\n",
            "|              Angola| AGO|    45.985|          19.1|Upper middle income|\n",
            "|             Albania| ALB|    12.877|          57.2|Upper middle income|\n",
            "|United Arab Emirates| ARE|    11.044|            88|        High income|\n",
            "|           Argentina| ARG|    17.716|          59.9|        High income|\n",
            "|             Armenia| ARM|    13.308|          41.9|Lower middle income|\n",
            "| Antigua and Barbuda| ATG|    16.447|          63.4|        High income|\n",
            "|           Australia| AUS|      13.2|            83|        High income|\n",
            "|             Austria| AUT|       9.4|       80.6188|        High income|\n",
            "+--------------------+----+----------+--------------+-------------------+\n",
            "\n"
          ]
        }
      ]
    },
    {
      "cell_type": "code",
      "source": [
        "src_tab = DeltaTable.forPath(spark, '/content/spark-warehouse/demographic_delta') #delta_df\n",
        "src_tab.toDF().show()"
      ],
      "metadata": {
        "id": "OGKBbWHijBHM",
        "colab": {
          "base_uri": "https://localhost:8080/"
        },
        "outputId": "0616743a-ed9a-4ae3-b5a7-423c69a321ca"
      },
      "execution_count": null,
      "outputs": [
        {
          "output_type": "stream",
          "name": "stdout",
          "text": [
            "+--------------------+----+----------+--------------+-------------------+\n",
            "|             Country|Code|Birth_Rate|Internet_Users|       Income_Group|\n",
            "+--------------------+----+----------+--------------+-------------------+\n",
            "|               Aruba| ABW|    10.244|          78.9|        High income|\n",
            "|         Afghanistan| AFG|    35.253|           5.9|         Low income|\n",
            "|              Angola| AGO|    45.985|          19.1|Upper middle income|\n",
            "|             Albania| ALB|    12.877|          57.2|Upper middle income|\n",
            "|United Arab Emirates| ARE|    11.044|            88|        High income|\n",
            "|           Argentina| ARG|    17.716|          59.9|        High income|\n",
            "|             Armenia| ARM|    13.308|          41.9|Lower middle income|\n",
            "| Antigua and Barbuda| ATG|    16.447|          63.4|        High income|\n",
            "|           Australia| AUS|      13.2|            83|        High income|\n",
            "|             Austria| AUT|       9.4|       80.6188|        High income|\n",
            "|          Azerbaijan| AZE|      18.3|          58.7|Upper middle income|\n",
            "|             Burundi| BDI|    44.151|           1.3|         Low income|\n",
            "|             Belgium| BEL|      11.2|       82.1702|        High income|\n",
            "|               Benin| BEN|     36.44|           4.9|         Low income|\n",
            "|        Burkina Faso| BFA|    40.551|           9.1|         Low income|\n",
            "|          Bangladesh| BGD|    20.142|          6.63|Lower middle income|\n",
            "|            Bulgaria| BGR|       9.2|       53.0615|Upper middle income|\n",
            "|             Bahrain| BHR|     15.04|    90.0000397|        High income|\n",
            "|        Bahamas, The| BHS|    15.339|            72|        High income|\n",
            "|Bosnia and Herzeg...| BIH|     9.062|         57.79|Upper middle income|\n",
            "+--------------------+----+----------+--------------+-------------------+\n",
            "\n"
          ]
        }
      ]
    },
    {
      "cell_type": "code",
      "source": [
        "from pyspark.sql.functions import lit"
      ],
      "metadata": {
        "id": "KSj9MHMxDcNA"
      },
      "execution_count": null,
      "outputs": []
    },
    {
      "cell_type": "code",
      "source": [
        "tgt_tab.alias(\"tgt\").merge(delta_df.alias(\"src\"), \"tgt.Code = src.Code\")\\\n",
        "  .whenMatchedUpdate(condition=\"tgt.Code = src.Code\", set={'tgt.code': lit(None)})\\\n",
        "  .whenNotMatchedInsert(\n",
        "    values={'tgt.country': 'src.country','tgt.code': lit('delta'), 'tgt.birth_rate': 'src.birth_rate', 'tgt.internet_users': 'src.internet_users', 'tgt.income_group': 'src.income_group'})\\\n",
        "  .execute()"
      ],
      "metadata": {
        "id": "gN3GMNxz8Grw"
      },
      "execution_count": null,
      "outputs": []
    },
    {
      "cell_type": "code",
      "source": [
        "tgt_tab.toDF().show()"
      ],
      "metadata": {
        "colab": {
          "base_uri": "https://localhost:8080/"
        },
        "id": "d1Clm1CZ_A0-",
        "outputId": "84ec4b99-0fa7-40fa-ecc8-e74950bd380e"
      },
      "execution_count": null,
      "outputs": [
        {
          "output_type": "stream",
          "name": "stdout",
          "text": [
            "+--------------------+-----+----------+--------------+-------------------+\n",
            "|             Country| Code|Birth_Rate|Internet_Users|       Income_Group|\n",
            "+--------------------+-----+----------+--------------+-------------------+\n",
            "|               Aruba| NULL|    10.244|          78.9|        High income|\n",
            "|         Afghanistan| NULL|    35.253|           5.9|         Low income|\n",
            "|              Angola| NULL|    45.985|          19.1|Upper middle income|\n",
            "|             Albania| NULL|    12.877|          57.2|Upper middle income|\n",
            "|United Arab Emirates| NULL|    11.044|            88|        High income|\n",
            "|           Argentina| NULL|    17.716|          59.9|        High income|\n",
            "|             Armenia| NULL|    13.308|          41.9|Lower middle income|\n",
            "| Antigua and Barbuda| NULL|    16.447|          63.4|        High income|\n",
            "|           Australia| NULL|      13.2|            83|        High income|\n",
            "|             Austria| NULL|       9.4|       80.6188|        High income|\n",
            "|          Azerbaijan|delta|      18.3|          58.7|Upper middle income|\n",
            "|             Burundi|delta|    44.151|           1.3|         Low income|\n",
            "|             Belgium|delta|      11.2|       82.1702|        High income|\n",
            "|               Benin|delta|     36.44|           4.9|         Low income|\n",
            "|        Burkina Faso|delta|    40.551|           9.1|         Low income|\n",
            "|          Bangladesh|delta|    20.142|          6.63|Lower middle income|\n",
            "|            Bulgaria|delta|       9.2|       53.0615|Upper middle income|\n",
            "|             Bahrain|delta|     15.04|    90.0000397|        High income|\n",
            "|        Bahamas, The|delta|    15.339|            72|        High income|\n",
            "|Bosnia and Herzeg...|delta|     9.062|         57.79|Upper middle income|\n",
            "+--------------------+-----+----------+--------------+-------------------+\n",
            "\n"
          ]
        }
      ]
    },
    {
      "cell_type": "code",
      "source": [
        "from google.colab import userdata\n",
        "print(userdata.get('gituser'))"
      ],
      "metadata": {
        "colab": {
          "base_uri": "https://localhost:8080/"
        },
        "id": "8rGyil8AUzgM",
        "outputId": "d32490ad-443f-48e6-bfea-f0d7dd267e09"
      },
      "execution_count": null,
      "outputs": [
        {
          "output_type": "stream",
          "name": "stdout",
          "text": [
            "raghus-id\n"
          ]
        }
      ]
    }
  ]
}